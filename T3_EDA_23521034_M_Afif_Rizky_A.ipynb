{
  "nbformat": 4,
  "nbformat_minor": 0,
  "metadata": {
    "colab": {
      "name": "T3-EDA-23521034-M Afif Rizky A.ipynb",
      "provenance": [],
      "collapsed_sections": [
        "lVlhUwBWTjXv"
      ],
      "authorship_tag": "ABX9TyOYk9WRvZOB313VYN9Jgaw+",
      "include_colab_link": true
    },
    "kernelspec": {
      "name": "python3",
      "display_name": "Python 3"
    },
    "language_info": {
      "name": "python"
    }
  },
  "cells": [
    {
      "cell_type": "markdown",
      "metadata": {
        "id": "view-in-github",
        "colab_type": "text"
      },
      "source": [
        "<a href=\"https://colab.research.google.com/github/afifrizkyandika11551100310/PREGNANCY_ANALYSIS/blob/main/T3_EDA_23521034_M_Afif_Rizky_A.ipynb\" target=\"_parent\"><img src=\"https://colab.research.google.com/assets/colab-badge.svg\" alt=\"Open In Colab\"/></a>"
      ]
    },
    {
      "cell_type": "markdown",
      "source": [
        "# **Kuis 1EDA IF5175 Analisis Data dan Bisnis** "
      ],
      "metadata": {
        "id": "lVlhUwBWTjXv"
      }
    },
    {
      "cell_type": "markdown",
      "source": [
        "*   **Nama : M Afif Rizky A**\n",
        "*   **Nim : 23521034**\n",
        "\n"
      ],
      "metadata": {
        "id": "9Aouz_vrURd3"
      }
    },
    {
      "cell_type": "markdown",
      "source": [
        "## **Initiation Step**"
      ],
      "metadata": {
        "id": "omIre02vTzC2"
      }
    },
    {
      "cell_type": "code",
      "execution_count": null,
      "metadata": {
        "id": "zVKCpQVJSSXx"
      },
      "outputs": [],
      "source": [
        "import pandas as pd\n",
        "from sklearn.model_selection import train_test_split, StratifiedKFold,cross_val_score \n",
        "from sklearn.naive_bayes import GaussianNB, MultinomialNB\n",
        "from sklearn.metrics import confusion_matrix,accuracy_score,precision_score,recall_score,classification_report\n",
        "from sklearn import metrics\n",
        "from yellowbrick.classifier import (ROCAUC,ConfusionMatrix,PrecisionRecallCurve,ClassPredictionError,ClassBalance,ClassificationReport)\n",
        "from yellowbrick.model_selection import (CVScores, LearningCurve, ValidationCurve) \n",
        "from yellowbrick.style.palettes import PALETTES, SEQUENCES, color_palette\n",
        "import numpy as np\n",
        "from collections import Counter\n",
        "import matplotlib.pyplot as plt\n",
        "from seaborn import pairplot\n",
        "from seaborn import heatmap\n",
        "import seaborn as sns\n"
      ]
    },
    {
      "cell_type": "markdown",
      "source": [
        "**data ini bercerita tentang hubungan kelahiran bayi dengan kondisi ibu yang sedang mengandung**"
      ],
      "metadata": {
        "id": "uCcXP7aIfPkO"
      }
    },
    {
      "cell_type": "code",
      "source": [
        "df = pd.read_csv('dataKuis.csv')\n",
        "df"
      ],
      "metadata": {
        "colab": {
          "base_uri": "https://localhost:8080/"
        },
        "id": "t2-eF9xhTVTH",
        "outputId": "47c830db-0330-4d8f-d093-c0fda4394bfe"
      },
      "execution_count": null,
      "outputs": [
        {
          "output_type": "execute_result",
          "data": {
            "text/html": [
              "\n",
              "  <div id=\"df-2f11d340-8ecc-487c-8040-a5f1c7b67624\">\n",
              "    <div class=\"colab-df-container\">\n",
              "      <div>\n",
              "<style scoped>\n",
              "    .dataframe tbody tr th:only-of-type {\n",
              "        vertical-align: middle;\n",
              "    }\n",
              "\n",
              "    .dataframe tbody tr th {\n",
              "        vertical-align: top;\n",
              "    }\n",
              "\n",
              "    .dataframe thead th {\n",
              "        text-align: right;\n",
              "    }\n",
              "</style>\n",
              "<table border=\"1\" class=\"dataframe\">\n",
              "  <thead>\n",
              "    <tr style=\"text-align: right;\">\n",
              "      <th></th>\n",
              "      <th>fage</th>\n",
              "      <th>mage</th>\n",
              "      <th>mature</th>\n",
              "      <th>weeks</th>\n",
              "      <th>premie</th>\n",
              "      <th>visits</th>\n",
              "      <th>marital</th>\n",
              "      <th>gained</th>\n",
              "      <th>weight</th>\n",
              "      <th>lowbirthweight</th>\n",
              "      <th>gender</th>\n",
              "      <th>habit</th>\n",
              "      <th>whitemom</th>\n",
              "    </tr>\n",
              "  </thead>\n",
              "  <tbody>\n",
              "    <tr>\n",
              "      <th>0</th>\n",
              "      <td>NaN</td>\n",
              "      <td>13</td>\n",
              "      <td>younger mom</td>\n",
              "      <td>39.0</td>\n",
              "      <td>full term</td>\n",
              "      <td>10.0</td>\n",
              "      <td>married</td>\n",
              "      <td>38.0</td>\n",
              "      <td>7.63</td>\n",
              "      <td>not low</td>\n",
              "      <td>male</td>\n",
              "      <td>nonsmoker</td>\n",
              "      <td>not white</td>\n",
              "    </tr>\n",
              "    <tr>\n",
              "      <th>1</th>\n",
              "      <td>NaN</td>\n",
              "      <td>14</td>\n",
              "      <td>younger mom</td>\n",
              "      <td>42.0</td>\n",
              "      <td>full term</td>\n",
              "      <td>15.0</td>\n",
              "      <td>married</td>\n",
              "      <td>20.0</td>\n",
              "      <td>7.88</td>\n",
              "      <td>not low</td>\n",
              "      <td>male</td>\n",
              "      <td>nonsmoker</td>\n",
              "      <td>not white</td>\n",
              "    </tr>\n",
              "    <tr>\n",
              "      <th>2</th>\n",
              "      <td>19.0</td>\n",
              "      <td>15</td>\n",
              "      <td>younger mom</td>\n",
              "      <td>37.0</td>\n",
              "      <td>full term</td>\n",
              "      <td>11.0</td>\n",
              "      <td>married</td>\n",
              "      <td>38.0</td>\n",
              "      <td>6.63</td>\n",
              "      <td>not low</td>\n",
              "      <td>female</td>\n",
              "      <td>nonsmoker</td>\n",
              "      <td>white</td>\n",
              "    </tr>\n",
              "    <tr>\n",
              "      <th>3</th>\n",
              "      <td>21.0</td>\n",
              "      <td>15</td>\n",
              "      <td>younger mom</td>\n",
              "      <td>41.0</td>\n",
              "      <td>full term</td>\n",
              "      <td>6.0</td>\n",
              "      <td>married</td>\n",
              "      <td>34.0</td>\n",
              "      <td>8.00</td>\n",
              "      <td>not low</td>\n",
              "      <td>male</td>\n",
              "      <td>nonsmoker</td>\n",
              "      <td>white</td>\n",
              "    </tr>\n",
              "    <tr>\n",
              "      <th>4</th>\n",
              "      <td>NaN</td>\n",
              "      <td>15</td>\n",
              "      <td>younger mom</td>\n",
              "      <td>39.0</td>\n",
              "      <td>full term</td>\n",
              "      <td>9.0</td>\n",
              "      <td>married</td>\n",
              "      <td>27.0</td>\n",
              "      <td>6.38</td>\n",
              "      <td>not low</td>\n",
              "      <td>female</td>\n",
              "      <td>nonsmoker</td>\n",
              "      <td>not white</td>\n",
              "    </tr>\n",
              "    <tr>\n",
              "      <th>...</th>\n",
              "      <td>...</td>\n",
              "      <td>...</td>\n",
              "      <td>...</td>\n",
              "      <td>...</td>\n",
              "      <td>...</td>\n",
              "      <td>...</td>\n",
              "      <td>...</td>\n",
              "      <td>...</td>\n",
              "      <td>...</td>\n",
              "      <td>...</td>\n",
              "      <td>...</td>\n",
              "      <td>...</td>\n",
              "      <td>...</td>\n",
              "    </tr>\n",
              "    <tr>\n",
              "      <th>995</th>\n",
              "      <td>47.0</td>\n",
              "      <td>42</td>\n",
              "      <td>mature mom</td>\n",
              "      <td>40.0</td>\n",
              "      <td>full term</td>\n",
              "      <td>10.0</td>\n",
              "      <td>not married</td>\n",
              "      <td>26.0</td>\n",
              "      <td>8.44</td>\n",
              "      <td>not low</td>\n",
              "      <td>male</td>\n",
              "      <td>nonsmoker</td>\n",
              "      <td>not white</td>\n",
              "    </tr>\n",
              "    <tr>\n",
              "      <th>996</th>\n",
              "      <td>34.0</td>\n",
              "      <td>42</td>\n",
              "      <td>mature mom</td>\n",
              "      <td>38.0</td>\n",
              "      <td>full term</td>\n",
              "      <td>18.0</td>\n",
              "      <td>not married</td>\n",
              "      <td>20.0</td>\n",
              "      <td>6.19</td>\n",
              "      <td>not low</td>\n",
              "      <td>female</td>\n",
              "      <td>nonsmoker</td>\n",
              "      <td>white</td>\n",
              "    </tr>\n",
              "    <tr>\n",
              "      <th>997</th>\n",
              "      <td>39.0</td>\n",
              "      <td>45</td>\n",
              "      <td>mature mom</td>\n",
              "      <td>40.0</td>\n",
              "      <td>full term</td>\n",
              "      <td>15.0</td>\n",
              "      <td>not married</td>\n",
              "      <td>32.0</td>\n",
              "      <td>6.94</td>\n",
              "      <td>not low</td>\n",
              "      <td>female</td>\n",
              "      <td>nonsmoker</td>\n",
              "      <td>white</td>\n",
              "    </tr>\n",
              "    <tr>\n",
              "      <th>998</th>\n",
              "      <td>55.0</td>\n",
              "      <td>46</td>\n",
              "      <td>mature mom</td>\n",
              "      <td>31.0</td>\n",
              "      <td>premie</td>\n",
              "      <td>8.0</td>\n",
              "      <td>not married</td>\n",
              "      <td>25.0</td>\n",
              "      <td>4.56</td>\n",
              "      <td>low</td>\n",
              "      <td>female</td>\n",
              "      <td>nonsmoker</td>\n",
              "      <td>not white</td>\n",
              "    </tr>\n",
              "    <tr>\n",
              "      <th>999</th>\n",
              "      <td>45.0</td>\n",
              "      <td>50</td>\n",
              "      <td>mature mom</td>\n",
              "      <td>39.0</td>\n",
              "      <td>full term</td>\n",
              "      <td>14.0</td>\n",
              "      <td>not married</td>\n",
              "      <td>23.0</td>\n",
              "      <td>7.13</td>\n",
              "      <td>not low</td>\n",
              "      <td>female</td>\n",
              "      <td>nonsmoker</td>\n",
              "      <td>white</td>\n",
              "    </tr>\n",
              "  </tbody>\n",
              "</table>\n",
              "<p>1000 rows × 13 columns</p>\n",
              "</div>\n",
              "      <button class=\"colab-df-convert\" onclick=\"convertToInteractive('df-2f11d340-8ecc-487c-8040-a5f1c7b67624')\"\n",
              "              title=\"Convert this dataframe to an interactive table.\"\n",
              "              style=\"display:none;\">\n",
              "        \n",
              "  <svg xmlns=\"http://www.w3.org/2000/svg\" height=\"24px\"viewBox=\"0 0 24 24\"\n",
              "       width=\"24px\">\n",
              "    <path d=\"M0 0h24v24H0V0z\" fill=\"none\"/>\n",
              "    <path d=\"M18.56 5.44l.94 2.06.94-2.06 2.06-.94-2.06-.94-.94-2.06-.94 2.06-2.06.94zm-11 1L8.5 8.5l.94-2.06 2.06-.94-2.06-.94L8.5 2.5l-.94 2.06-2.06.94zm10 10l.94 2.06.94-2.06 2.06-.94-2.06-.94-.94-2.06-.94 2.06-2.06.94z\"/><path d=\"M17.41 7.96l-1.37-1.37c-.4-.4-.92-.59-1.43-.59-.52 0-1.04.2-1.43.59L10.3 9.45l-7.72 7.72c-.78.78-.78 2.05 0 2.83L4 21.41c.39.39.9.59 1.41.59.51 0 1.02-.2 1.41-.59l7.78-7.78 2.81-2.81c.8-.78.8-2.07 0-2.86zM5.41 20L4 18.59l7.72-7.72 1.47 1.35L5.41 20z\"/>\n",
              "  </svg>\n",
              "      </button>\n",
              "      \n",
              "  <style>\n",
              "    .colab-df-container {\n",
              "      display:flex;\n",
              "      flex-wrap:wrap;\n",
              "      gap: 12px;\n",
              "    }\n",
              "\n",
              "    .colab-df-convert {\n",
              "      background-color: #E8F0FE;\n",
              "      border: none;\n",
              "      border-radius: 50%;\n",
              "      cursor: pointer;\n",
              "      display: none;\n",
              "      fill: #1967D2;\n",
              "      height: 32px;\n",
              "      padding: 0 0 0 0;\n",
              "      width: 32px;\n",
              "    }\n",
              "\n",
              "    .colab-df-convert:hover {\n",
              "      background-color: #E2EBFA;\n",
              "      box-shadow: 0px 1px 2px rgba(60, 64, 67, 0.3), 0px 1px 3px 1px rgba(60, 64, 67, 0.15);\n",
              "      fill: #174EA6;\n",
              "    }\n",
              "\n",
              "    [theme=dark] .colab-df-convert {\n",
              "      background-color: #3B4455;\n",
              "      fill: #D2E3FC;\n",
              "    }\n",
              "\n",
              "    [theme=dark] .colab-df-convert:hover {\n",
              "      background-color: #434B5C;\n",
              "      box-shadow: 0px 1px 3px 1px rgba(0, 0, 0, 0.15);\n",
              "      filter: drop-shadow(0px 1px 2px rgba(0, 0, 0, 0.3));\n",
              "      fill: #FFFFFF;\n",
              "    }\n",
              "  </style>\n",
              "\n",
              "      <script>\n",
              "        const buttonEl =\n",
              "          document.querySelector('#df-2f11d340-8ecc-487c-8040-a5f1c7b67624 button.colab-df-convert');\n",
              "        buttonEl.style.display =\n",
              "          google.colab.kernel.accessAllowed ? 'block' : 'none';\n",
              "\n",
              "        async function convertToInteractive(key) {\n",
              "          const element = document.querySelector('#df-2f11d340-8ecc-487c-8040-a5f1c7b67624');\n",
              "          const dataTable =\n",
              "            await google.colab.kernel.invokeFunction('convertToInteractive',\n",
              "                                                     [key], {});\n",
              "          if (!dataTable) return;\n",
              "\n",
              "          const docLinkHtml = 'Like what you see? Visit the ' +\n",
              "            '<a target=\"_blank\" href=https://colab.research.google.com/notebooks/data_table.ipynb>data table notebook</a>'\n",
              "            + ' to learn more about interactive tables.';\n",
              "          element.innerHTML = '';\n",
              "          dataTable['output_type'] = 'display_data';\n",
              "          await google.colab.output.renderOutput(dataTable, element);\n",
              "          const docLink = document.createElement('div');\n",
              "          docLink.innerHTML = docLinkHtml;\n",
              "          element.appendChild(docLink);\n",
              "        }\n",
              "      </script>\n",
              "    </div>\n",
              "  </div>\n",
              "  "
            ],
            "text/plain": [
              "     fage  mage       mature  ...  gender      habit   whitemom\n",
              "0     NaN    13  younger mom  ...    male  nonsmoker  not white\n",
              "1     NaN    14  younger mom  ...    male  nonsmoker  not white\n",
              "2    19.0    15  younger mom  ...  female  nonsmoker      white\n",
              "3    21.0    15  younger mom  ...    male  nonsmoker      white\n",
              "4     NaN    15  younger mom  ...  female  nonsmoker  not white\n",
              "..    ...   ...          ...  ...     ...        ...        ...\n",
              "995  47.0    42   mature mom  ...    male  nonsmoker  not white\n",
              "996  34.0    42   mature mom  ...  female  nonsmoker      white\n",
              "997  39.0    45   mature mom  ...  female  nonsmoker      white\n",
              "998  55.0    46   mature mom  ...  female  nonsmoker  not white\n",
              "999  45.0    50   mature mom  ...  female  nonsmoker      white\n",
              "\n",
              "[1000 rows x 13 columns]"
            ]
          },
          "metadata": {},
          "execution_count": 2
        }
      ]
    },
    {
      "cell_type": "markdown",
      "source": [
        "## **Exploratory Data Analysis**"
      ],
      "metadata": {
        "id": "_d0CLs7hVetP"
      }
    },
    {
      "cell_type": "markdown",
      "source": [
        "Exploratory data analysis or “EDA” is a critical first step in analyzing the data from an experiment. Here are the main reasons we use EDA:\n",
        "* detection of mistakes\n",
        "* checking of assumptions\n",
        "* preliminary selection of appropriate models\n",
        "* determining relationships among the explanatory variables, and\n",
        "* assessing the direction and rough size of relationships between explanatory\n",
        "and outcome variables"
      ],
      "metadata": {
        "id": "eojWYfTQVNSQ"
      }
    },
    {
      "cell_type": "markdown",
      "source": [
        "**Exploratory data analysis** is **generally The four types of EDA are univariate non-graphical, multivariate nongraphical, univariate graphical, and multivariate graphical.**"
      ],
      "metadata": {
        "id": "q97vsenYVybA"
      }
    },
    {
      "cell_type": "code",
      "source": [
        "# melihat data shape\n",
        "print('dimensi data = ', df.shape)\n",
        "print('='*30)\n",
        "print('total data hilang = ', df.isnull().sum().sum())\n",
        "print('='*30)\n",
        "print('detail jumlah data yang hilang')\n",
        "print(df.isnull().sum())"
      ],
      "metadata": {
        "colab": {
          "base_uri": "https://localhost:8080/"
        },
        "id": "oYkSbynnUx4E",
        "outputId": "9d3055aa-fd51-473e-ec67-b1cce3bdc3c1"
      },
      "execution_count": null,
      "outputs": [
        {
          "output_type": "stream",
          "name": "stdout",
          "text": [
            "dimensi data =  (1000, 13)\n",
            "==============================\n",
            "total data hilang =  215\n",
            "==============================\n",
            "detail jumlah data yang hilang\n",
            "fage              171\n",
            "mage                0\n",
            "mature              0\n",
            "weeks               2\n",
            "premie              2\n",
            "visits              9\n",
            "marital             1\n",
            "gained             27\n",
            "weight              0\n",
            "lowbirthweight      0\n",
            "gender              0\n",
            "habit               1\n",
            "whitemom            2\n",
            "dtype: int64\n"
          ]
        }
      ]
    },
    {
      "cell_type": "markdown",
      "source": [
        "dapat dilihat bahwasanya terdapat satu variable yang memiliki missing value yang banyak yaitu data dengan variable fage. sedangkan data lainnya tidak terlalu memiliki missing value yang cukup signifikan"
      ],
      "metadata": {
        "id": "ZbpO_zbTdtRV"
      }
    },
    {
      "cell_type": "markdown",
      "source": [
        "**Univariate non-graphical EDA for Categorical Data**"
      ],
      "metadata": {
        "id": "hOFRb06RYlql"
      }
    },
    {
      "cell_type": "markdown",
      "source": [
        "**A simple tabulation of the frequency of each category is the best univariate non-graphical EDA for categorical data.**"
      ],
      "metadata": {
        "id": "DHpHRyQvZkUI"
      }
    },
    {
      "cell_type": "markdown",
      "source": [
        "selanjutnya penulis akan menggambarkan bagaimana sample distribusi dari data categorical yang mana akan menggambarkan frekuensi dari nilai kategori yang ada pada populasi data "
      ],
      "metadata": {
        "id": "Nqp6Z_0keIYy"
      }
    },
    {
      "cell_type": "code",
      "source": [
        "# categorical data value count\n",
        "print(df['mature'].value_counts())\n",
        "print('='*30)\n",
        "print(df['habit'].value_counts())\n",
        "print('='*30)\n",
        "print(df['marital'].value_counts())\n",
        "print('='*30)\n",
        "print(df['gender'].value_counts())"
      ],
      "metadata": {
        "colab": {
          "base_uri": "https://localhost:8080/"
        },
        "id": "UiDmFdz-YCrP",
        "outputId": "8e5049d6-ebde-49c0-9e4a-f28e9c47b6b3"
      },
      "execution_count": null,
      "outputs": [
        {
          "output_type": "stream",
          "name": "stdout",
          "text": [
            "younger mom    867\n",
            "mature mom     133\n",
            "Name: mature, dtype: int64\n",
            "==============================\n",
            "nonsmoker    873\n",
            "smoker       126\n",
            "Name: habit, dtype: int64\n",
            "==============================\n",
            "not married    613\n",
            "married        386\n",
            "Name: marital, dtype: int64\n",
            "==============================\n",
            "female    503\n",
            "male      497\n",
            "Name: gender, dtype: int64\n"
          ]
        }
      ]
    },
    {
      "cell_type": "markdown",
      "source": [
        "**Characteristics of quantitative data**"
      ],
      "metadata": {
        "id": "fvJMu5flZztI"
      }
    },
    {
      "cell_type": "markdown",
      "source": [
        "**sample’s distributional characteristics are seen qualitatively in the univariate graphical EDA technique of a histogram**"
      ],
      "metadata": {
        "id": "5jRK2rJEaFIY"
      }
    },
    {
      "cell_type": "code",
      "source": [
        "plt.figure(figsize=(25,10))\n",
        "plt.title('Distirbusi variabel weeks dari ibu melahirkan')\n",
        "plt.minorticks_on()\n",
        "plot = sns.countplot(df['weeks'])\n",
        "for p in plot.patches:\n",
        "    plot.annotate(format(p.get_height(), '.1f'), \n",
        "                   (p.get_x() + p.get_width() / 2., p.get_height()), \n",
        "                   ha = 'center', va = 'center', \n",
        "                   xytext = (0, 9), \n",
        "                   textcoords = 'offset points')"
      ],
      "metadata": {
        "colab": {
          "base_uri": "https://localhost:8080/"
        },
        "id": "iMcZYa5QZEDY",
        "outputId": "6b1b7251-f417-4a88-d9df-331cef150703"
      },
      "execution_count": null,
      "outputs": [
        {
          "output_type": "stream",
          "name": "stderr",
          "text": [
            "/usr/local/lib/python3.7/dist-packages/seaborn/_decorators.py:43: FutureWarning: Pass the following variable as a keyword arg: x. From version 0.12, the only valid positional argument will be `data`, and passing other arguments without an explicit keyword will result in an error or misinterpretation.\n",
            "  FutureWarning\n"
          ]
        },
        {
          "output_type": "display_data",
          "data": {
            "image/png": "[encoded data removed]",
            "text/plain": [
              "<Figure size 1800x720 with 1 Axes>"
            ]
          },
          "metadata": {
            "needs_background": "light"
          }
        }
      ]
    },
    {
      "cell_type": "markdown",
      "source": [
        "**berdasarkan hasil histrogram diatas dapat disimpulkan secara fakta bahwa usia melahirkan normal (39-40 minggu) lebih banyak dibandingkan usia yang tidak normal. sehingga penulis akan melihat secara lebih kondusif. apa yang menyebabkan terjadinya usia kandungan yang tidak normal (> dari 39-40 atau < 39-40 minggu)**"
      ],
      "metadata": {
        "id": "bc0mfYIig2lM"
      }
    },
    {
      "cell_type": "code",
      "source": [
        "df.describe()"
      ],
      "metadata": {
        "colab": {
          "base_uri": "https://localhost:8080/"
        },
        "id": "JD-XZm1Qa2v9",
        "outputId": "5d29ab14-bc27-4d3b-fa2d-4fc83b56458d"
      },
      "execution_count": null,
      "outputs": [
        {
          "output_type": "execute_result",
          "data": {
            "text/html": [
              "\n",
              "  <div id=\"df-9d00a24f-d90e-4604-b04a-4d2b7f2df76a\">\n",
              "    <div class=\"colab-df-container\">\n",
              "      <div>\n",
              "<style scoped>\n",
              "    .dataframe tbody tr th:only-of-type {\n",
              "        vertical-align: middle;\n",
              "    }\n",
              "\n",
              "    .dataframe tbody tr th {\n",
              "        vertical-align: top;\n",
              "    }\n",
              "\n",
              "    .dataframe thead th {\n",
              "        text-align: right;\n",
              "    }\n",
              "</style>\n",
              "<table border=\"1\" class=\"dataframe\">\n",
              "  <thead>\n",
              "    <tr style=\"text-align: right;\">\n",
              "      <th></th>\n",
              "      <th>fage</th>\n",
              "      <th>mage</th>\n",
              "      <th>weeks</th>\n",
              "      <th>visits</th>\n",
              "      <th>gained</th>\n",
              "      <th>weight</th>\n",
              "    </tr>\n",
              "  </thead>\n",
              "  <tbody>\n",
              "    <tr>\n",
              "      <th>count</th>\n",
              "      <td>829.000000</td>\n",
              "      <td>1000.000000</td>\n",
              "      <td>998.000000</td>\n",
              "      <td>991.000000</td>\n",
              "      <td>973.000000</td>\n",
              "      <td>1000.00000</td>\n",
              "    </tr>\n",
              "    <tr>\n",
              "      <th>mean</th>\n",
              "      <td>30.255730</td>\n",
              "      <td>27.000000</td>\n",
              "      <td>38.334669</td>\n",
              "      <td>12.104945</td>\n",
              "      <td>30.325797</td>\n",
              "      <td>7.10100</td>\n",
              "    </tr>\n",
              "    <tr>\n",
              "      <th>std</th>\n",
              "      <td>6.763766</td>\n",
              "      <td>6.213583</td>\n",
              "      <td>2.931553</td>\n",
              "      <td>3.954934</td>\n",
              "      <td>14.241297</td>\n",
              "      <td>1.50886</td>\n",
              "    </tr>\n",
              "    <tr>\n",
              "      <th>min</th>\n",
              "      <td>14.000000</td>\n",
              "      <td>13.000000</td>\n",
              "      <td>20.000000</td>\n",
              "      <td>0.000000</td>\n",
              "      <td>0.000000</td>\n",
              "      <td>1.00000</td>\n",
              "    </tr>\n",
              "    <tr>\n",
              "      <th>25%</th>\n",
              "      <td>25.000000</td>\n",
              "      <td>22.000000</td>\n",
              "      <td>37.000000</td>\n",
              "      <td>10.000000</td>\n",
              "      <td>20.000000</td>\n",
              "      <td>6.38000</td>\n",
              "    </tr>\n",
              "    <tr>\n",
              "      <th>50%</th>\n",
              "      <td>30.000000</td>\n",
              "      <td>27.000000</td>\n",
              "      <td>39.000000</td>\n",
              "      <td>12.000000</td>\n",
              "      <td>30.000000</td>\n",
              "      <td>7.31000</td>\n",
              "    </tr>\n",
              "    <tr>\n",
              "      <th>75%</th>\n",
              "      <td>35.000000</td>\n",
              "      <td>32.000000</td>\n",
              "      <td>40.000000</td>\n",
              "      <td>15.000000</td>\n",
              "      <td>38.000000</td>\n",
              "      <td>8.06000</td>\n",
              "    </tr>\n",
              "    <tr>\n",
              "      <th>max</th>\n",
              "      <td>55.000000</td>\n",
              "      <td>50.000000</td>\n",
              "      <td>45.000000</td>\n",
              "      <td>30.000000</td>\n",
              "      <td>85.000000</td>\n",
              "      <td>11.75000</td>\n",
              "    </tr>\n",
              "  </tbody>\n",
              "</table>\n",
              "</div>\n",
              "      <button class=\"colab-df-convert\" onclick=\"convertToInteractive('df-9d00a24f-d90e-4604-b04a-4d2b7f2df76a')\"\n",
              "              title=\"Convert this dataframe to an interactive table.\"\n",
              "              style=\"display:none;\">\n",
              "        \n",
              "  <svg xmlns=\"http://www.w3.org/2000/svg\" height=\"24px\"viewBox=\"0 0 24 24\"\n",
              "       width=\"24px\">\n",
              "    <path d=\"M0 0h24v24H0V0z\" fill=\"none\"/>\n",
              "    <path d=\"M18.56 5.44l.94 2.06.94-2.06 2.06-.94-2.06-.94-.94-2.06-.94 2.06-2.06.94zm-11 1L8.5 8.5l.94-2.06 2.06-.94-2.06-.94L8.5 2.5l-.94 2.06-2.06.94zm10 10l.94 2.06.94-2.06 2.06-.94-2.06-.94-.94-2.06-.94 2.06-2.06.94z\"/><path d=\"M17.41 7.96l-1.37-1.37c-.4-.4-.92-.59-1.43-.59-.52 0-1.04.2-1.43.59L10.3 9.45l-7.72 7.72c-.78.78-.78 2.05 0 2.83L4 21.41c.39.39.9.59 1.41.59.51 0 1.02-.2 1.41-.59l7.78-7.78 2.81-2.81c.8-.78.8-2.07 0-2.86zM5.41 20L4 18.59l7.72-7.72 1.47 1.35L5.41 20z\"/>\n",
              "  </svg>\n",
              "      </button>\n",
              "      \n",
              "  <style>\n",
              "    .colab-df-container {\n",
              "      display:flex;\n",
              "      flex-wrap:wrap;\n",
              "      gap: 12px;\n",
              "    }\n",
              "\n",
              "    .colab-df-convert {\n",
              "      background-color: #E8F0FE;\n",
              "      border: none;\n",
              "      border-radius: 50%;\n",
              "      cursor: pointer;\n",
              "      display: none;\n",
              "      fill: #1967D2;\n",
              "      height: 32px;\n",
              "      padding: 0 0 0 0;\n",
              "      width: 32px;\n",
              "    }\n",
              "\n",
              "    .colab-df-convert:hover {\n",
              "      background-color: #E2EBFA;\n",
              "      box-shadow: 0px 1px 2px rgba(60, 64, 67, 0.3), 0px 1px 3px 1px rgba(60, 64, 67, 0.15);\n",
              "      fill: #174EA6;\n",
              "    }\n",
              "\n",
              "    [theme=dark] .colab-df-convert {\n",
              "      background-color: #3B4455;\n",
              "      fill: #D2E3FC;\n",
              "    }\n",
              "\n",
              "    [theme=dark] .colab-df-convert:hover {\n",
              "      background-color: #434B5C;\n",
              "      box-shadow: 0px 1px 3px 1px rgba(0, 0, 0, 0.15);\n",
              "      filter: drop-shadow(0px 1px 2px rgba(0, 0, 0, 0.3));\n",
              "      fill: #FFFFFF;\n",
              "    }\n",
              "  </style>\n",
              "\n",
              "      <script>\n",
              "        const buttonEl =\n",
              "          document.querySelector('#df-9d00a24f-d90e-4604-b04a-4d2b7f2df76a button.colab-df-convert');\n",
              "        buttonEl.style.display =\n",
              "          google.colab.kernel.accessAllowed ? 'block' : 'none';\n",
              "\n",
              "        async function convertToInteractive(key) {\n",
              "          const element = document.querySelector('#df-9d00a24f-d90e-4604-b04a-4d2b7f2df76a');\n",
              "          const dataTable =\n",
              "            await google.colab.kernel.invokeFunction('convertToInteractive',\n",
              "                                                     [key], {});\n",
              "          if (!dataTable) return;\n",
              "\n",
              "          const docLinkHtml = 'Like what you see? Visit the ' +\n",
              "            '<a target=\"_blank\" href=https://colab.research.google.com/notebooks/data_table.ipynb>data table notebook</a>'\n",
              "            + ' to learn more about interactive tables.';\n",
              "          element.innerHTML = '';\n",
              "          dataTable['output_type'] = 'display_data';\n",
              "          await google.colab.output.renderOutput(dataTable, element);\n",
              "          const docLink = document.createElement('div');\n",
              "          docLink.innerHTML = docLinkHtml;\n",
              "          element.appendChild(docLink);\n",
              "        }\n",
              "      </script>\n",
              "    </div>\n",
              "  </div>\n",
              "  "
            ],
            "text/plain": [
              "             fage         mage       weeks      visits      gained      weight\n",
              "count  829.000000  1000.000000  998.000000  991.000000  973.000000  1000.00000\n",
              "mean    30.255730    27.000000   38.334669   12.104945   30.325797     7.10100\n",
              "std      6.763766     6.213583    2.931553    3.954934   14.241297     1.50886\n",
              "min     14.000000    13.000000   20.000000    0.000000    0.000000     1.00000\n",
              "25%     25.000000    22.000000   37.000000   10.000000   20.000000     6.38000\n",
              "50%     30.000000    27.000000   39.000000   12.000000   30.000000     7.31000\n",
              "75%     35.000000    32.000000   40.000000   15.000000   38.000000     8.06000\n",
              "max     55.000000    50.000000   45.000000   30.000000   85.000000    11.75000"
            ]
          },
          "metadata": {},
          "execution_count": 6
        }
      ]
    },
    {
      "cell_type": "markdown",
      "source": [
        "**dapat digambarkan berdasarkan hasil deskriptif statistik bahwa terdapat gambaran umum terdapat ibu dengan umur 13 tahun sudah mengalami kehamilan dan usia sang ayah adalah 14 tahun. kita akan melihat kondisi abnormal jika melihat dari fakta medical dan bagaimana kondisi bayi yang dilahirkan ibu tersebut**"
      ],
      "metadata": {
        "id": "33owxUsgh9WD"
      }
    },
    {
      "cell_type": "code",
      "source": [
        "abnormal_age = df[df['mage'] < 20]\n",
        "abnormal_age"
      ],
      "metadata": {
        "colab": {
          "base_uri": "https://localhost:8080/"
        },
        "id": "b4QhZtNjbOIP",
        "outputId": "442ce004-1f82-48ef-dd5a-ce064372a7d3"
      },
      "execution_count": null,
      "outputs": [
        {
          "output_type": "execute_result",
          "data": {
            "text/html": [
              "\n",
              "  <div id=\"df-a45a1cb0-6d9c-473c-90e1-6016ecdbc03d\">\n",
              "    <div class=\"colab-df-container\">\n",
              "      <div>\n",
              "<style scoped>\n",
              "    .dataframe tbody tr th:only-of-type {\n",
              "        vertical-align: middle;\n",
              "    }\n",
              "\n",
              "    .dataframe tbody tr th {\n",
              "        vertical-align: top;\n",
              "    }\n",
              "\n",
              "    .dataframe thead th {\n",
              "        text-align: right;\n",
              "    }\n",
              "</style>\n",
              "<table border=\"1\" class=\"dataframe\">\n",
              "  <thead>\n",
              "    <tr style=\"text-align: right;\">\n",
              "      <th></th>\n",
              "      <th>fage</th>\n",
              "      <th>mage</th>\n",
              "      <th>mature</th>\n",
              "      <th>weeks</th>\n",
              "      <th>premie</th>\n",
              "      <th>visits</th>\n",
              "      <th>marital</th>\n",
              "      <th>gained</th>\n",
              "      <th>weight</th>\n",
              "      <th>lowbirthweight</th>\n",
              "      <th>gender</th>\n",
              "      <th>habit</th>\n",
              "      <th>whitemom</th>\n",
              "    </tr>\n",
              "  </thead>\n",
              "  <tbody>\n",
              "    <tr>\n",
              "      <th>0</th>\n",
              "      <td>NaN</td>\n",
              "      <td>13</td>\n",
              "      <td>younger mom</td>\n",
              "      <td>39.0</td>\n",
              "      <td>full term</td>\n",
              "      <td>10.0</td>\n",
              "      <td>married</td>\n",
              "      <td>38.0</td>\n",
              "      <td>7.63</td>\n",
              "      <td>not low</td>\n",
              "      <td>male</td>\n",
              "      <td>nonsmoker</td>\n",
              "      <td>not white</td>\n",
              "    </tr>\n",
              "    <tr>\n",
              "      <th>1</th>\n",
              "      <td>NaN</td>\n",
              "      <td>14</td>\n",
              "      <td>younger mom</td>\n",
              "      <td>42.0</td>\n",
              "      <td>full term</td>\n",
              "      <td>15.0</td>\n",
              "      <td>married</td>\n",
              "      <td>20.0</td>\n",
              "      <td>7.88</td>\n",
              "      <td>not low</td>\n",
              "      <td>male</td>\n",
              "      <td>nonsmoker</td>\n",
              "      <td>not white</td>\n",
              "    </tr>\n",
              "    <tr>\n",
              "      <th>2</th>\n",
              "      <td>19.0</td>\n",
              "      <td>15</td>\n",
              "      <td>younger mom</td>\n",
              "      <td>37.0</td>\n",
              "      <td>full term</td>\n",
              "      <td>11.0</td>\n",
              "      <td>married</td>\n",
              "      <td>38.0</td>\n",
              "      <td>6.63</td>\n",
              "      <td>not low</td>\n",
              "      <td>female</td>\n",
              "      <td>nonsmoker</td>\n",
              "      <td>white</td>\n",
              "    </tr>\n",
              "    <tr>\n",
              "      <th>3</th>\n",
              "      <td>21.0</td>\n",
              "      <td>15</td>\n",
              "      <td>younger mom</td>\n",
              "      <td>41.0</td>\n",
              "      <td>full term</td>\n",
              "      <td>6.0</td>\n",
              "      <td>married</td>\n",
              "      <td>34.0</td>\n",
              "      <td>8.00</td>\n",
              "      <td>not low</td>\n",
              "      <td>male</td>\n",
              "      <td>nonsmoker</td>\n",
              "      <td>white</td>\n",
              "    </tr>\n",
              "    <tr>\n",
              "      <th>4</th>\n",
              "      <td>NaN</td>\n",
              "      <td>15</td>\n",
              "      <td>younger mom</td>\n",
              "      <td>39.0</td>\n",
              "      <td>full term</td>\n",
              "      <td>9.0</td>\n",
              "      <td>married</td>\n",
              "      <td>27.0</td>\n",
              "      <td>6.38</td>\n",
              "      <td>not low</td>\n",
              "      <td>female</td>\n",
              "      <td>nonsmoker</td>\n",
              "      <td>not white</td>\n",
              "    </tr>\n",
              "    <tr>\n",
              "      <th>...</th>\n",
              "      <td>...</td>\n",
              "      <td>...</td>\n",
              "      <td>...</td>\n",
              "      <td>...</td>\n",
              "      <td>...</td>\n",
              "      <td>...</td>\n",
              "      <td>...</td>\n",
              "      <td>...</td>\n",
              "      <td>...</td>\n",
              "      <td>...</td>\n",
              "      <td>...</td>\n",
              "      <td>...</td>\n",
              "      <td>...</td>\n",
              "    </tr>\n",
              "    <tr>\n",
              "      <th>105</th>\n",
              "      <td>27.0</td>\n",
              "      <td>19</td>\n",
              "      <td>younger mom</td>\n",
              "      <td>32.0</td>\n",
              "      <td>premie</td>\n",
              "      <td>5.0</td>\n",
              "      <td>not married</td>\n",
              "      <td>32.0</td>\n",
              "      <td>6.50</td>\n",
              "      <td>not low</td>\n",
              "      <td>female</td>\n",
              "      <td>nonsmoker</td>\n",
              "      <td>white</td>\n",
              "    </tr>\n",
              "    <tr>\n",
              "      <th>106</th>\n",
              "      <td>NaN</td>\n",
              "      <td>19</td>\n",
              "      <td>younger mom</td>\n",
              "      <td>36.0</td>\n",
              "      <td>premie</td>\n",
              "      <td>9.0</td>\n",
              "      <td>married</td>\n",
              "      <td>5.0</td>\n",
              "      <td>6.31</td>\n",
              "      <td>not low</td>\n",
              "      <td>female</td>\n",
              "      <td>nonsmoker</td>\n",
              "      <td>not white</td>\n",
              "    </tr>\n",
              "    <tr>\n",
              "      <th>107</th>\n",
              "      <td>NaN</td>\n",
              "      <td>19</td>\n",
              "      <td>younger mom</td>\n",
              "      <td>35.0</td>\n",
              "      <td>premie</td>\n",
              "      <td>12.0</td>\n",
              "      <td>married</td>\n",
              "      <td>50.0</td>\n",
              "      <td>5.25</td>\n",
              "      <td>low</td>\n",
              "      <td>female</td>\n",
              "      <td>nonsmoker</td>\n",
              "      <td>not white</td>\n",
              "    </tr>\n",
              "    <tr>\n",
              "      <th>108</th>\n",
              "      <td>19.0</td>\n",
              "      <td>19</td>\n",
              "      <td>younger mom</td>\n",
              "      <td>36.0</td>\n",
              "      <td>premie</td>\n",
              "      <td>10.0</td>\n",
              "      <td>not married</td>\n",
              "      <td>35.0</td>\n",
              "      <td>7.25</td>\n",
              "      <td>not low</td>\n",
              "      <td>male</td>\n",
              "      <td>nonsmoker</td>\n",
              "      <td>not white</td>\n",
              "    </tr>\n",
              "    <tr>\n",
              "      <th>109</th>\n",
              "      <td>26.0</td>\n",
              "      <td>19</td>\n",
              "      <td>younger mom</td>\n",
              "      <td>36.0</td>\n",
              "      <td>premie</td>\n",
              "      <td>12.0</td>\n",
              "      <td>married</td>\n",
              "      <td>24.0</td>\n",
              "      <td>6.19</td>\n",
              "      <td>not low</td>\n",
              "      <td>female</td>\n",
              "      <td>smoker</td>\n",
              "      <td>not white</td>\n",
              "    </tr>\n",
              "  </tbody>\n",
              "</table>\n",
              "<p>110 rows × 13 columns</p>\n",
              "</div>\n",
              "      <button class=\"colab-df-convert\" onclick=\"convertToInteractive('df-a45a1cb0-6d9c-473c-90e1-6016ecdbc03d')\"\n",
              "              title=\"Convert this dataframe to an interactive table.\"\n",
              "              style=\"display:none;\">\n",
              "        \n",
              "  <svg xmlns=\"http://www.w3.org/2000/svg\" height=\"24px\"viewBox=\"0 0 24 24\"\n",
              "       width=\"24px\">\n",
              "    <path d=\"M0 0h24v24H0V0z\" fill=\"none\"/>\n",
              "    <path d=\"M18.56 5.44l.94 2.06.94-2.06 2.06-.94-2.06-.94-.94-2.06-.94 2.06-2.06.94zm-11 1L8.5 8.5l.94-2.06 2.06-.94-2.06-.94L8.5 2.5l-.94 2.06-2.06.94zm10 10l.94 2.06.94-2.06 2.06-.94-2.06-.94-.94-2.06-.94 2.06-2.06.94z\"/><path d=\"M17.41 7.96l-1.37-1.37c-.4-.4-.92-.59-1.43-.59-.52 0-1.04.2-1.43.59L10.3 9.45l-7.72 7.72c-.78.78-.78 2.05 0 2.83L4 21.41c.39.39.9.59 1.41.59.51 0 1.02-.2 1.41-.59l7.78-7.78 2.81-2.81c.8-.78.8-2.07 0-2.86zM5.41 20L4 18.59l7.72-7.72 1.47 1.35L5.41 20z\"/>\n",
              "  </svg>\n",
              "      </button>\n",
              "      \n",
              "  <style>\n",
              "    .colab-df-container {\n",
              "      display:flex;\n",
              "      flex-wrap:wrap;\n",
              "      gap: 12px;\n",
              "    }\n",
              "\n",
              "    .colab-df-convert {\n",
              "      background-color: #E8F0FE;\n",
              "      border: none;\n",
              "      border-radius: 50%;\n",
              "      cursor: pointer;\n",
              "      display: none;\n",
              "      fill: #1967D2;\n",
              "      height: 32px;\n",
              "      padding: 0 0 0 0;\n",
              "      width: 32px;\n",
              "    }\n",
              "\n",
              "    .colab-df-convert:hover {\n",
              "      background-color: #E2EBFA;\n",
              "      box-shadow: 0px 1px 2px rgba(60, 64, 67, 0.3), 0px 1px 3px 1px rgba(60, 64, 67, 0.15);\n",
              "      fill: #174EA6;\n",
              "    }\n",
              "\n",
              "    [theme=dark] .colab-df-convert {\n",
              "      background-color: #3B4455;\n",
              "      fill: #D2E3FC;\n",
              "    }\n",
              "\n",
              "    [theme=dark] .colab-df-convert:hover {\n",
              "      background-color: #434B5C;\n",
              "      box-shadow: 0px 1px 3px 1px rgba(0, 0, 0, 0.15);\n",
              "      filter: drop-shadow(0px 1px 2px rgba(0, 0, 0, 0.3));\n",
              "      fill: #FFFFFF;\n",
              "    }\n",
              "  </style>\n",
              "\n",
              "      <script>\n",
              "        const buttonEl =\n",
              "          document.querySelector('#df-a45a1cb0-6d9c-473c-90e1-6016ecdbc03d button.colab-df-convert');\n",
              "        buttonEl.style.display =\n",
              "          google.colab.kernel.accessAllowed ? 'block' : 'none';\n",
              "\n",
              "        async function convertToInteractive(key) {\n",
              "          const element = document.querySelector('#df-a45a1cb0-6d9c-473c-90e1-6016ecdbc03d');\n",
              "          const dataTable =\n",
              "            await google.colab.kernel.invokeFunction('convertToInteractive',\n",
              "                                                     [key], {});\n",
              "          if (!dataTable) return;\n",
              "\n",
              "          const docLinkHtml = 'Like what you see? Visit the ' +\n",
              "            '<a target=\"_blank\" href=https://colab.research.google.com/notebooks/data_table.ipynb>data table notebook</a>'\n",
              "            + ' to learn more about interactive tables.';\n",
              "          element.innerHTML = '';\n",
              "          dataTable['output_type'] = 'display_data';\n",
              "          await google.colab.output.renderOutput(dataTable, element);\n",
              "          const docLink = document.createElement('div');\n",
              "          docLink.innerHTML = docLinkHtml;\n",
              "          element.appendChild(docLink);\n",
              "        }\n",
              "      </script>\n",
              "    </div>\n",
              "  </div>\n",
              "  "
            ],
            "text/plain": [
              "     fage  mage       mature  ...  gender      habit   whitemom\n",
              "0     NaN    13  younger mom  ...    male  nonsmoker  not white\n",
              "1     NaN    14  younger mom  ...    male  nonsmoker  not white\n",
              "2    19.0    15  younger mom  ...  female  nonsmoker      white\n",
              "3    21.0    15  younger mom  ...    male  nonsmoker      white\n",
              "4     NaN    15  younger mom  ...  female  nonsmoker  not white\n",
              "..    ...   ...          ...  ...     ...        ...        ...\n",
              "105  27.0    19  younger mom  ...  female  nonsmoker      white\n",
              "106   NaN    19  younger mom  ...  female  nonsmoker  not white\n",
              "107   NaN    19  younger mom  ...  female  nonsmoker  not white\n",
              "108  19.0    19  younger mom  ...    male  nonsmoker  not white\n",
              "109  26.0    19  younger mom  ...  female     smoker  not white\n",
              "\n",
              "[110 rows x 13 columns]"
            ]
          },
          "metadata": {},
          "execution_count": 7
        }
      ]
    },
    {
      "cell_type": "code",
      "source": [
        "print('jumlah kondisi umur ibu muda = ', abnormal_age.shape)\n",
        "print(abnormal_age['premie'].value_counts())\n",
        "print('='*30)\n",
        "print(abnormal_age['lowbirthweight'].value_counts())\n",
        "print('='*30)\n",
        "print(abnormal_age['habit'].value_counts())"
      ],
      "metadata": {
        "colab": {
          "base_uri": "https://localhost:8080/"
        },
        "id": "o3NYcRLPiiep",
        "outputId": "a93bf046-98ce-4d15-fc5b-6e93cf03dac3"
      },
      "execution_count": null,
      "outputs": [
        {
          "output_type": "stream",
          "name": "stdout",
          "text": [
            "jumlah kondisi umur ibu muda =  (110, 13)\n",
            "full term    89\n",
            "premie       21\n",
            "Name: premie, dtype: int64\n",
            "==============================\n",
            "not low    94\n",
            "low        16\n",
            "Name: lowbirthweight, dtype: int64\n",
            "==============================\n",
            "nonsmoker    93\n",
            "smoker       17\n",
            "Name: habit, dtype: int64\n"
          ]
        }
      ]
    },
    {
      "cell_type": "markdown",
      "source": [
        "**dapat disimpulkan dari hasil diatas bahwa meskipun umur sang ibu masih sangat muda (< 20 tahun), namun kebanyakan dari ibu muda tersebut dapat melahirkan kebanyakan melahirkan normal dan memiliki rasio melahirkan yang tinggi disebabkan kabanyakan ibu tersebut tidak merokok**"
      ],
      "metadata": {
        "id": "D7fR6-zSj30M"
      }
    },
    {
      "cell_type": "markdown",
      "source": [
        "selanjutnya penulis akan meneliti bagaimana kondisi ibu yang melahirkan dalam kondisi **usia kehamilan yang abnormal**"
      ],
      "metadata": {
        "id": "4Xf5gaPEkpEF"
      }
    },
    {
      "cell_type": "code",
      "source": [
        "abnormal_weeks1 = df[df['weeks']<39]\n",
        "abnormal_weeks1.shape"
      ],
      "metadata": {
        "colab": {
          "base_uri": "https://localhost:8080/"
        },
        "id": "ppf9OR5EjiQQ",
        "outputId": "0e19ea82-d594-4439-9218-4fa8cb19f717"
      },
      "execution_count": null,
      "outputs": [
        {
          "output_type": "execute_result",
          "data": {
            "text/plain": [
              "(435, 13)"
            ]
          },
          "metadata": {},
          "execution_count": 9
        }
      ]
    },
    {
      "cell_type": "code",
      "source": [
        "abnormal_weeks2 = df[df['weeks']>40]\n",
        "abnormal_weeks2.shape"
      ],
      "metadata": {
        "colab": {
          "base_uri": "https://localhost:8080/"
        },
        "id": "2DLJdHi7k9hc",
        "outputId": "c73e765b-297b-4e0d-bd2d-95a93fcaf6bc"
      },
      "execution_count": null,
      "outputs": [
        {
          "output_type": "execute_result",
          "data": {
            "text/plain": [
              "(158, 13)"
            ]
          },
          "metadata": {},
          "execution_count": 10
        }
      ]
    },
    {
      "cell_type": "code",
      "source": [
        "# concat df\n",
        "full_abnormal_weeks = pd.concat([abnormal_weeks1, abnormal_weeks2])\n",
        "full_abnormal_weeks"
      ],
      "metadata": {
        "colab": {
          "base_uri": "https://localhost:8080/"
        },
        "id": "9Ba1SYmFlK3H",
        "outputId": "2b0b03da-8729-4953-f82b-0eb9f34df15e"
      },
      "execution_count": null,
      "outputs": [
        {
          "output_type": "execute_result",
          "data": {
            "text/html": [
              "\n",
              "  <div id=\"df-882d1140-0265-457b-b5fc-65a5f741d357\">\n",
              "    <div class=\"colab-df-container\">\n",
              "      <div>\n",
              "<style scoped>\n",
              "    .dataframe tbody tr th:only-of-type {\n",
              "        vertical-align: middle;\n",
              "    }\n",
              "\n",
              "    .dataframe tbody tr th {\n",
              "        vertical-align: top;\n",
              "    }\n",
              "\n",
              "    .dataframe thead th {\n",
              "        text-align: right;\n",
              "    }\n",
              "</style>\n",
              "<table border=\"1\" class=\"dataframe\">\n",
              "  <thead>\n",
              "    <tr style=\"text-align: right;\">\n",
              "      <th></th>\n",
              "      <th>fage</th>\n",
              "      <th>mage</th>\n",
              "      <th>mature</th>\n",
              "      <th>weeks</th>\n",
              "      <th>premie</th>\n",
              "      <th>visits</th>\n",
              "      <th>marital</th>\n",
              "      <th>gained</th>\n",
              "      <th>weight</th>\n",
              "      <th>lowbirthweight</th>\n",
              "      <th>gender</th>\n",
              "      <th>habit</th>\n",
              "      <th>whitemom</th>\n",
              "    </tr>\n",
              "  </thead>\n",
              "  <tbody>\n",
              "    <tr>\n",
              "      <th>2</th>\n",
              "      <td>19.0</td>\n",
              "      <td>15</td>\n",
              "      <td>younger mom</td>\n",
              "      <td>37.0</td>\n",
              "      <td>full term</td>\n",
              "      <td>11.0</td>\n",
              "      <td>married</td>\n",
              "      <td>38.0</td>\n",
              "      <td>6.63</td>\n",
              "      <td>not low</td>\n",
              "      <td>female</td>\n",
              "      <td>nonsmoker</td>\n",
              "      <td>white</td>\n",
              "    </tr>\n",
              "    <tr>\n",
              "      <th>5</th>\n",
              "      <td>NaN</td>\n",
              "      <td>15</td>\n",
              "      <td>younger mom</td>\n",
              "      <td>38.0</td>\n",
              "      <td>full term</td>\n",
              "      <td>19.0</td>\n",
              "      <td>married</td>\n",
              "      <td>22.0</td>\n",
              "      <td>5.38</td>\n",
              "      <td>low</td>\n",
              "      <td>male</td>\n",
              "      <td>nonsmoker</td>\n",
              "      <td>not white</td>\n",
              "    </tr>\n",
              "    <tr>\n",
              "      <th>6</th>\n",
              "      <td>18.0</td>\n",
              "      <td>15</td>\n",
              "      <td>younger mom</td>\n",
              "      <td>37.0</td>\n",
              "      <td>full term</td>\n",
              "      <td>12.0</td>\n",
              "      <td>married</td>\n",
              "      <td>76.0</td>\n",
              "      <td>8.44</td>\n",
              "      <td>not low</td>\n",
              "      <td>male</td>\n",
              "      <td>nonsmoker</td>\n",
              "      <td>not white</td>\n",
              "    </tr>\n",
              "    <tr>\n",
              "      <th>7</th>\n",
              "      <td>17.0</td>\n",
              "      <td>15</td>\n",
              "      <td>younger mom</td>\n",
              "      <td>35.0</td>\n",
              "      <td>premie</td>\n",
              "      <td>5.0</td>\n",
              "      <td>married</td>\n",
              "      <td>15.0</td>\n",
              "      <td>4.69</td>\n",
              "      <td>low</td>\n",
              "      <td>male</td>\n",
              "      <td>nonsmoker</td>\n",
              "      <td>not white</td>\n",
              "    </tr>\n",
              "    <tr>\n",
              "      <th>8</th>\n",
              "      <td>NaN</td>\n",
              "      <td>16</td>\n",
              "      <td>younger mom</td>\n",
              "      <td>38.0</td>\n",
              "      <td>full term</td>\n",
              "      <td>9.0</td>\n",
              "      <td>married</td>\n",
              "      <td>NaN</td>\n",
              "      <td>8.81</td>\n",
              "      <td>not low</td>\n",
              "      <td>male</td>\n",
              "      <td>nonsmoker</td>\n",
              "      <td>white</td>\n",
              "    </tr>\n",
              "    <tr>\n",
              "      <th>...</th>\n",
              "      <td>...</td>\n",
              "      <td>...</td>\n",
              "      <td>...</td>\n",
              "      <td>...</td>\n",
              "      <td>...</td>\n",
              "      <td>...</td>\n",
              "      <td>...</td>\n",
              "      <td>...</td>\n",
              "      <td>...</td>\n",
              "      <td>...</td>\n",
              "      <td>...</td>\n",
              "      <td>...</td>\n",
              "      <td>...</td>\n",
              "    </tr>\n",
              "    <tr>\n",
              "      <th>967</th>\n",
              "      <td>42.0</td>\n",
              "      <td>38</td>\n",
              "      <td>mature mom</td>\n",
              "      <td>41.0</td>\n",
              "      <td>full term</td>\n",
              "      <td>15.0</td>\n",
              "      <td>not married</td>\n",
              "      <td>35.0</td>\n",
              "      <td>10.13</td>\n",
              "      <td>not low</td>\n",
              "      <td>female</td>\n",
              "      <td>nonsmoker</td>\n",
              "      <td>white</td>\n",
              "    </tr>\n",
              "    <tr>\n",
              "      <th>979</th>\n",
              "      <td>34.0</td>\n",
              "      <td>40</td>\n",
              "      <td>mature mom</td>\n",
              "      <td>41.0</td>\n",
              "      <td>full term</td>\n",
              "      <td>8.0</td>\n",
              "      <td>married</td>\n",
              "      <td>29.0</td>\n",
              "      <td>9.88</td>\n",
              "      <td>not low</td>\n",
              "      <td>male</td>\n",
              "      <td>nonsmoker</td>\n",
              "      <td>NaN</td>\n",
              "    </tr>\n",
              "    <tr>\n",
              "      <th>980</th>\n",
              "      <td>43.0</td>\n",
              "      <td>40</td>\n",
              "      <td>mature mom</td>\n",
              "      <td>41.0</td>\n",
              "      <td>full term</td>\n",
              "      <td>11.0</td>\n",
              "      <td>not married</td>\n",
              "      <td>25.0</td>\n",
              "      <td>9.19</td>\n",
              "      <td>not low</td>\n",
              "      <td>male</td>\n",
              "      <td>nonsmoker</td>\n",
              "      <td>white</td>\n",
              "    </tr>\n",
              "    <tr>\n",
              "      <th>981</th>\n",
              "      <td>41.0</td>\n",
              "      <td>40</td>\n",
              "      <td>mature mom</td>\n",
              "      <td>43.0</td>\n",
              "      <td>full term</td>\n",
              "      <td>12.0</td>\n",
              "      <td>not married</td>\n",
              "      <td>27.0</td>\n",
              "      <td>8.13</td>\n",
              "      <td>not low</td>\n",
              "      <td>male</td>\n",
              "      <td>nonsmoker</td>\n",
              "      <td>white</td>\n",
              "    </tr>\n",
              "    <tr>\n",
              "      <th>988</th>\n",
              "      <td>48.0</td>\n",
              "      <td>41</td>\n",
              "      <td>mature mom</td>\n",
              "      <td>41.0</td>\n",
              "      <td>full term</td>\n",
              "      <td>15.0</td>\n",
              "      <td>not married</td>\n",
              "      <td>28.0</td>\n",
              "      <td>6.38</td>\n",
              "      <td>not low</td>\n",
              "      <td>male</td>\n",
              "      <td>nonsmoker</td>\n",
              "      <td>not white</td>\n",
              "    </tr>\n",
              "  </tbody>\n",
              "</table>\n",
              "<p>593 rows × 13 columns</p>\n",
              "</div>\n",
              "      <button class=\"colab-df-convert\" onclick=\"convertToInteractive('df-882d1140-0265-457b-b5fc-65a5f741d357')\"\n",
              "              title=\"Convert this dataframe to an interactive table.\"\n",
              "              style=\"display:none;\">\n",
              "        \n",
              "  <svg xmlns=\"http://www.w3.org/2000/svg\" height=\"24px\"viewBox=\"0 0 24 24\"\n",
              "       width=\"24px\">\n",
              "    <path d=\"M0 0h24v24H0V0z\" fill=\"none\"/>\n",
              "    <path d=\"M18.56 5.44l.94 2.06.94-2.06 2.06-.94-2.06-.94-.94-2.06-.94 2.06-2.06.94zm-11 1L8.5 8.5l.94-2.06 2.06-.94-2.06-.94L8.5 2.5l-.94 2.06-2.06.94zm10 10l.94 2.06.94-2.06 2.06-.94-2.06-.94-.94-2.06-.94 2.06-2.06.94z\"/><path d=\"M17.41 7.96l-1.37-1.37c-.4-.4-.92-.59-1.43-.59-.52 0-1.04.2-1.43.59L10.3 9.45l-7.72 7.72c-.78.78-.78 2.05 0 2.83L4 21.41c.39.39.9.59 1.41.59.51 0 1.02-.2 1.41-.59l7.78-7.78 2.81-2.81c.8-.78.8-2.07 0-2.86zM5.41 20L4 18.59l7.72-7.72 1.47 1.35L5.41 20z\"/>\n",
              "  </svg>\n",
              "      </button>\n",
              "      \n",
              "  <style>\n",
              "    .colab-df-container {\n",
              "      display:flex;\n",
              "      flex-wrap:wrap;\n",
              "      gap: 12px;\n",
              "    }\n",
              "\n",
              "    .colab-df-convert {\n",
              "      background-color: #E8F0FE;\n",
              "      border: none;\n",
              "      border-radius: 50%;\n",
              "      cursor: pointer;\n",
              "      display: none;\n",
              "      fill: #1967D2;\n",
              "      height: 32px;\n",
              "      padding: 0 0 0 0;\n",
              "      width: 32px;\n",
              "    }\n",
              "\n",
              "    .colab-df-convert:hover {\n",
              "      background-color: #E2EBFA;\n",
              "      box-shadow: 0px 1px 2px rgba(60, 64, 67, 0.3), 0px 1px 3px 1px rgba(60, 64, 67, 0.15);\n",
              "      fill: #174EA6;\n",
              "    }\n",
              "\n",
              "    [theme=dark] .colab-df-convert {\n",
              "      background-color: #3B4455;\n",
              "      fill: #D2E3FC;\n",
              "    }\n",
              "\n",
              "    [theme=dark] .colab-df-convert:hover {\n",
              "      background-color: #434B5C;\n",
              "      box-shadow: 0px 1px 3px 1px rgba(0, 0, 0, 0.15);\n",
              "      filter: drop-shadow(0px 1px 2px rgba(0, 0, 0, 0.3));\n",
              "      fill: #FFFFFF;\n",
              "    }\n",
              "  </style>\n",
              "\n",
              "      <script>\n",
              "        const buttonEl =\n",
              "          document.querySelector('#df-882d1140-0265-457b-b5fc-65a5f741d357 button.colab-df-convert');\n",
              "        buttonEl.style.display =\n",
              "          google.colab.kernel.accessAllowed ? 'block' : 'none';\n",
              "\n",
              "        async function convertToInteractive(key) {\n",
              "          const element = document.querySelector('#df-882d1140-0265-457b-b5fc-65a5f741d357');\n",
              "          const dataTable =\n",
              "            await google.colab.kernel.invokeFunction('convertToInteractive',\n",
              "                                                     [key], {});\n",
              "          if (!dataTable) return;\n",
              "\n",
              "          const docLinkHtml = 'Like what you see? Visit the ' +\n",
              "            '<a target=\"_blank\" href=https://colab.research.google.com/notebooks/data_table.ipynb>data table notebook</a>'\n",
              "            + ' to learn more about interactive tables.';\n",
              "          element.innerHTML = '';\n",
              "          dataTable['output_type'] = 'display_data';\n",
              "          await google.colab.output.renderOutput(dataTable, element);\n",
              "          const docLink = document.createElement('div');\n",
              "          docLink.innerHTML = docLinkHtml;\n",
              "          element.appendChild(docLink);\n",
              "        }\n",
              "      </script>\n",
              "    </div>\n",
              "  </div>\n",
              "  "
            ],
            "text/plain": [
              "     fage  mage       mature  ...  gender      habit   whitemom\n",
              "2    19.0    15  younger mom  ...  female  nonsmoker      white\n",
              "5     NaN    15  younger mom  ...    male  nonsmoker  not white\n",
              "6    18.0    15  younger mom  ...    male  nonsmoker  not white\n",
              "7    17.0    15  younger mom  ...    male  nonsmoker  not white\n",
              "8     NaN    16  younger mom  ...    male  nonsmoker      white\n",
              "..    ...   ...          ...  ...     ...        ...        ...\n",
              "967  42.0    38   mature mom  ...  female  nonsmoker      white\n",
              "979  34.0    40   mature mom  ...    male  nonsmoker        NaN\n",
              "980  43.0    40   mature mom  ...    male  nonsmoker      white\n",
              "981  41.0    40   mature mom  ...    male  nonsmoker      white\n",
              "988  48.0    41   mature mom  ...    male  nonsmoker  not white\n",
              "\n",
              "[593 rows x 13 columns]"
            ]
          },
          "metadata": {},
          "execution_count": 11
        }
      ]
    },
    {
      "cell_type": "code",
      "source": [
        "full_abnormal_weeks.shape"
      ],
      "metadata": {
        "colab": {
          "base_uri": "https://localhost:8080/"
        },
        "id": "FiS8pG_Do1e9",
        "outputId": "a0e37768-6bc5-48d1-8c7a-b4b9da756422"
      },
      "execution_count": null,
      "outputs": [
        {
          "output_type": "execute_result",
          "data": {
            "text/plain": [
              "(593, 13)"
            ]
          },
          "metadata": {},
          "execution_count": 12
        }
      ]
    },
    {
      "cell_type": "code",
      "source": [
        "plt.figure(figsize=(25,10))\n",
        "plt.title('Distirbusi umur ibu yang melahirkan tidak normal')\n",
        "plt.minorticks_on()\n",
        "plot = sns.countplot(full_abnormal_weeks['mage'])\n",
        "for p in plot.patches:\n",
        "    plot.annotate(format(p.get_height(), '.1f'), \n",
        "                   (p.get_x() + p.get_width() / 2., p.get_height()), \n",
        "                   ha = 'center', va = 'center', \n",
        "                   xytext = (0, 9), \n",
        "                   textcoords = 'offset points')"
      ],
      "metadata": {
        "colab": {
          "base_uri": "https://localhost:8080/"
        },
        "id": "jzgW1x4Tlqgq",
        "outputId": "6b07a326-080f-466c-868c-f27c0c2248cb"
      },
      "execution_count": null,
      "outputs": [
        {
          "output_type": "stream",
          "name": "stderr",
          "text": [
            "/usr/local/lib/python3.7/dist-packages/seaborn/_decorators.py:43: FutureWarning: Pass the following variable as a keyword arg: x. From version 0.12, the only valid positional argument will be `data`, and passing other arguments without an explicit keyword will result in an error or misinterpretation.\n",
            "  FutureWarning\n"
          ]
        },
        {
          "output_type": "display_data",
          "data": {
            "image/png": "[encoded data removed]",
            "text/plain": [
              "<Figure size 1800x720 with 1 Axes>"
            ]
          },
          "metadata": {
            "needs_background": "light"
          }
        }
      ]
    },
    {
      "cell_type": "markdown",
      "source": [
        "**dapat dilihat dari grafik diatas menunjukkan bahwa distribusi umur yang memiliki usia kehamilan abnormal kebanyakan terdapat pada usia yang masih tergolong cukup produktif untuk mengalami kehamilan** "
      ],
      "metadata": {
        "id": "gCUAxn1smkot"
      }
    },
    {
      "cell_type": "markdown",
      "source": [
        "selanjutnya penulis akan meneliti secara diskrit terhadap kondisi diatas"
      ],
      "metadata": {
        "id": "AlgzjNErm7w4"
      }
    },
    {
      "cell_type": "code",
      "source": [
        "print(full_abnormal_weeks['lowbirthweight'].value_counts())\n",
        "print('='*30)\n",
        "print(full_abnormal_weeks['habit'].value_counts())\n",
        "print('='*30)\n",
        "print(full_abnormal_weeks['mature'].value_counts())\n",
        "print('='*30)\n",
        "print(full_abnormal_weeks['marital'].value_counts())"
      ],
      "metadata": {
        "colab": {
          "base_uri": "https://localhost:8080/"
        },
        "id": "osR2QdiXmPNL",
        "outputId": "ca5a8339-c2f5-48c5-978c-2fd5ae6cbf28"
      },
      "execution_count": null,
      "outputs": [
        {
          "output_type": "stream",
          "name": "stdout",
          "text": [
            "not low    494\n",
            "low         99\n",
            "Name: lowbirthweight, dtype: int64\n",
            "==============================\n",
            "nonsmoker    521\n",
            "smoker        72\n",
            "Name: habit, dtype: int64\n",
            "==============================\n",
            "younger mom    511\n",
            "mature mom      82\n",
            "Name: mature, dtype: int64\n",
            "==============================\n",
            "not married    350\n",
            "married        243\n",
            "Name: marital, dtype: int64\n"
          ]
        }
      ]
    },
    {
      "cell_type": "markdown",
      "source": [
        "**dari gambaran umum diatas terhadap data categorical, masih belum dapat disimpulkan mengapa ibu tersebut mengalami usia kehamilan yang abnormal meskipun umur dari sang ibu masih dalam usia produktif. namun yang dapat kita pahami dari gambaran diskrit diatas, menunjukkan bahwa kebanyakan ibu yang mengalami usia kehamilan yang abnormal adalah ibu yang belum menikah. untuk lebih memperdalam hasil tersebut, penulis akan meneliti korelasi terhadap data yang bersifat continious**"
      ],
      "metadata": {
        "id": "PjnIhW0ypN9r"
      }
    },
    {
      "cell_type": "code",
      "source": [
        "plot5 = sns.lmplot(x=\"mage\", y=\"visits\", hue = 'marital', data=full_abnormal_weeks , height=8, aspect = .9)\n",
        "plot5.fig.suptitle('korelasi usia ibu dengan usia kehamilan abnormal berdasarkan status pernikahan')"
      ],
      "metadata": {
        "colab": {
          "base_uri": "https://localhost:8080/"
        },
        "id": "ca1jZMg_nNE1",
        "outputId": "1927bbb3-9ff2-4b01-ed6f-f2e9540804fe"
      },
      "execution_count": null,
      "outputs": [
        {
          "output_type": "execute_result",
          "data": {
            "text/plain": [
              "Text(0.5, 0.98, 'korelasi usia ibu dengan usia kehamilan abnormal berdasarkan status pernikahan')"
            ]
          },
          "metadata": {},
          "execution_count": 15
        },
        {
          "output_type": "display_data",
          "data": {
            "image/png": "[encoded data removed]",
            "text/plain": [
              "<Figure size 604.65x576 with 1 Axes>"
            ]
          },
          "metadata": {
            "needs_background": "light"
          }
        }
      ]
    },
    {
      "cell_type": "markdown",
      "source": [
        "**berdasarkan hasil diatas menunjukkan bahwa kebanyakan dari ibu dengan usia kehamilan yang abnormal dan tidak menikah memiliki kunjungan dokter yang lebih banyak dibandingkan orang yang sudah menikah. hal ini membuat kesimpulan, bahwasanya kehamilan diluar nikah siasumsikan dapat membuat psikologis dan mental dari ibu tersebut terganggu.**"
      ],
      "metadata": {
        "id": "luJrOPLBrQOj"
      }
    },
    {
      "cell_type": "markdown",
      "source": [
        "# **Update Kuis 1 EDA** "
      ],
      "metadata": {
        "id": "v8KT55s9Oy3_"
      }
    },
    {
      "cell_type": "markdown",
      "source": [
        "**Berdasarkan beberapa kondisi dari tiap fakta yang ada pada data. penulis mengambil asumsi bahwa data yang diteliti tidak memiliki outlier. hal ini diambil dari landasan yang menunjukkan data yang kita miliki diasumsikan adalah data rekam medis yang ada pada suatu rumah sakit ibu dan anak.** namun meskipun begitu, penulis akan melihat secara statistik apakah terdapat data yang bersifat outlier atau tidak dengan membuat sebuah boxplot, histogram dan density plot."
      ],
      "metadata": {
        "id": "W71UlhU0POj_"
      }
    },
    {
      "cell_type": "code",
      "source": [
        "plot3 = sns.displot(df, x=\"mage\", col=\"marital\", multiple=\"dodge\", height=6, aspect=1.2)\n",
        "plot3.fig.suptitle('Distribusi persebaran umur ibu berdasarkan status pernikahan')"
      ],
      "metadata": {
        "id": "KQRgG_SWquMb",
        "colab": {
          "base_uri": "https://localhost:8080/",
          "height": 461
        },
        "outputId": "78a9dc32-17da-4177-ee04-953e61997287"
      },
      "execution_count": null,
      "outputs": [
        {
          "output_type": "execute_result",
          "data": {
            "text/plain": [
              "Text(0.5, 0.98, 'Distribusi persebaran umur ibu berdasarkan status pernikahan')"
            ]
          },
          "metadata": {},
          "execution_count": 21
        },
        {
          "output_type": "display_data",
          "data": {
            "image/png": "[encoded data removed]",
            "text/plain": [
              "<Figure size 1036.8x432 with 2 Axes>"
            ]
          },
          "metadata": {
            "needs_background": "light"
          }
        }
      ]
    },
    {
      "cell_type": "markdown",
      "source": [
        "berdasarkan salah satu contoh histogram diatas, penulis dapat mengambil gambaran dimana **persebaran ibu yang hamil dengan kondisi belum menikah lebih banyak dibandingkan ibu yang hamil namun sudah menikah**. lalu analisis kedua yang berhubungan dengan outlier (HBOS / Histogram Based Outlier Score) adalah **terdapat sebuah kondisi dimana ada persebaran data yang tidak wajar pada ibu (umur 45 tahun dan mendekati 50 tahun) yang hamil dengan kondisi belum menikah**"
      ],
      "metadata": {
        "id": "z9nMerDsTWe-"
      }
    },
    {
      "cell_type": "markdown",
      "source": [
        "selanjutnya penulis akan melihat **kondisi persebaran** (spreadness) dari data yang digunakan dengan menampilkan density plot dan box plot. Kurva kepadatan (density) adalah kurva pada grafik yang mewakili distribusi nilai dalam kumpulan data."
      ],
      "metadata": {
        "id": "ZJupa_NxU27A"
      }
    },
    {
      "cell_type": "code",
      "source": [
        "plot4 = sns.displot(df, x=\"mage\", kind=\"kde\", height=6, aspect=1.2, cut = 0)\n",
        "plot4.fig.suptitle('Distribusi persebaran umur ibu')"
      ],
      "metadata": {
        "colab": {
          "base_uri": "https://localhost:8080/",
          "height": 461
        },
        "id": "D9UN2xg1RycS",
        "outputId": "59bf9753-efc6-424d-8910-ba6b73f78713"
      },
      "execution_count": null,
      "outputs": [
        {
          "output_type": "execute_result",
          "data": {
            "text/plain": [
              "Text(0.5, 0.98, 'Distribusi persebaran umur ibu')"
            ]
          },
          "metadata": {},
          "execution_count": 27
        },
        {
          "output_type": "display_data",
          "data": {
            "image/png": "[encoded data removed]",
            "text/plain": [
              "<Figure size 518.4x432 with 1 Axes>"
            ]
          },
          "metadata": {
            "needs_background": "light"
          }
        }
      ]
    },
    {
      "cell_type": "markdown",
      "source": [
        "**berdasarkan grafik densitas diatas menunjukkan bahwa data yang digunakan memiliki sifat no-skew dimana rata - rata (mean) masih berbanding lurus dengan median sehingga dapat diambil kesimpulan bahwa persebaran data yang menggambarkan rata-rata dari data cukup baik dibandingkan dengan yang tidak menggambarkan rata - rata**"
      ],
      "metadata": {
        "id": "UlQYSjN2oK82"
      }
    },
    {
      "cell_type": "code",
      "source": [
        "plot4 = sns.catplot(x=\"mage\", y=\"weeks\", hue=\"marital\", kind=\"box\", data=df, height=8, aspect=2.4)\n",
        "plot4.fig.suptitle('Distribusi persebaran umur ibu dengan umur kehamilan berdasarkan status pernikahan')"
      ],
      "metadata": {
        "colab": {
          "base_uri": "https://localhost:8080/",
          "height": 604
        },
        "id": "NLquxyHgYJSK",
        "outputId": "03274864-042d-4d51-9931-c0fe94e6a847"
      },
      "execution_count": null,
      "outputs": [
        {
          "output_type": "execute_result",
          "data": {
            "text/plain": [
              "Text(0.5, 0.98, 'Distribusi persebaran umur ibu dengan umur kehamilan berdasarkan status pernikahan')"
            ]
          },
          "metadata": {},
          "execution_count": 38
        },
        {
          "output_type": "display_data",
          "data": {
            "image/png": "[encoded data removed]",
            "text/plain": [
              "<Figure size 1468.65x576 with 1 Axes>"
            ]
          },
          "metadata": {
            "needs_background": "light"
          }
        }
      ]
    },
    {
      "cell_type": "markdown",
      "source": [
        "Berdasarkan hasil grafik boxplot diatas **banyak data yang terdeteksi outlier** (**diluar dari whisker interquartile persebaran data**). hal ini dapat diasumsikan terdapat :\n",
        "* **measurement error** (penulis berasumsi ini tidak terjadi mengingat data yang digunakan adalah data rekam medis)\n",
        "* **sampling problem** (mungkin dapat terjadi dikarenakan kurangnya sample yang menggambarkan outlier tersebut) "
      ],
      "metadata": {
        "id": "jtTvyAGjvQ5X"
      }
    },
    {
      "cell_type": "markdown",
      "source": [
        "# **T3-EDA**"
      ],
      "metadata": {
        "id": "cgrQtzWC3BmC"
      }
    },
    {
      "cell_type": "markdown",
      "source": [
        "Sebagai akhir dari analisis secara diskrit terhadap data, penulis akan menggambarkan **visualisasi heatmap dengan table pearson** yang **menggambarkan korelasi antar atribut dari data yang digunakan**. heatmap ini akan menjadi landasan untuk menentukan apakah sebuah atribut memiliki keterhubungan yang kuat atau tidak"
      ],
      "metadata": {
        "id": "sP6paT2fxTc6"
      }
    },
    {
      "cell_type": "code",
      "source": [
        "df.keys()"
      ],
      "metadata": {
        "colab": {
          "base_uri": "https://localhost:8080/"
        },
        "id": "WWfjQO-EziBe",
        "outputId": "9a7a39de-1087-40f2-a9dc-5ec4aa36abcb"
      },
      "execution_count": null,
      "outputs": [
        {
          "output_type": "execute_result",
          "data": {
            "text/plain": [
              "Index(['fage', 'mage', 'mature', 'weeks', 'premie', 'visits', 'marital',\n",
              "       'gained', 'weight', 'lowbirthweight', 'gender', 'habit', 'whitemom'],\n",
              "      dtype='object')"
            ]
          },
          "metadata": {},
          "execution_count": 44
        }
      ]
    },
    {
      "cell_type": "code",
      "source": [
        "from seaborn import heatmap\n",
        "fig, ax  = plt.subplots(figsize = (8,6))\n",
        "ax = heatmap(df.corr(),fmt = '.2f', annot=True, ax=ax, cmap='RdBu_r', vmin=-1, vmax=1)"
      ],
      "metadata": {
        "colab": {
          "base_uri": "https://localhost:8080/",
          "height": 378
        },
        "id": "3VeP82xwm3aC",
        "outputId": "844d3138-90e5-4cec-c69a-34149945b409"
      },
      "execution_count": null,
      "outputs": [
        {
          "output_type": "display_data",
          "data": {
            "image/png": "[encoded data removed]",
            "text/plain": [
              "<Figure size 576x432 with 2 Axes>"
            ]
          },
          "metadata": {
            "needs_background": "light"
          }
        }
      ]
    },
    {
      "cell_type": "markdown",
      "source": [
        "berdasarkan hasil tabel korelasi diatas dapat kita ambil sebuah g**ambaran dimana terdapat beberapa variabel yang berkorelasi positif kuat** (strong positive correlation) sebagai **contoh, diasumsikan sekitar 0.67 bahwa semakin lama ibu mengandung, maka massa bayi yang dilahirkan akan semakin berat, dan terdapat error sebesar 0.33 tidak menggambarkan hal tersebut**. "
      ],
      "metadata": {
        "id": "b5pANMGE11w9"
      }
    },
    {
      "cell_type": "markdown",
      "source": [
        "#### **Model Regresi Liniear**"
      ],
      "metadata": {
        "id": "4APQTCWdNZ_q"
      }
    },
    {
      "cell_type": "markdown",
      "source": [
        "Dalam statistik, **regresi linier adalah pendekatan yang memodelkan hubungan antara respons skalar dan satu atau lebih variabel** penjelas (juga dikenal sebagai variabel dependen dan independen). terdapat dua jenis regresi yaitu **regresi linier sederhana** dan **regresi linier berganda**"
      ],
      "metadata": {
        "id": "yPAbhiE7lXkd"
      }
    },
    {
      "cell_type": "markdown",
      "source": [
        "**Karakteristik regresi linier**:\n",
        "1.   **Regresi linier** setidaknya **menghasilkan garis lurus** (hyperplane), yang **disebut** garis regresi kuadrat terkecil atau **LSRL**, adalah sebuah **garis yang paling baik mengekspresikan pengamatan dalam analisis bivariat** kumpulan data.\n",
        "2.   **x adalah variabel bebas**, dan **y adalah nilai prediksi** dari variabel terikat dimana coefficient dari linier regresi adalah **y = B0 + B1X**\n",
        "\n"
      ],
      "metadata": {
        "id": "qiXCmEaqoCvs"
      }
    },
    {
      "cell_type": "markdown",
      "source": [
        "**Error regresi linier**: regresi linier paling sering **menggunakan MSE (Mean Squared Error)** sebagai perhitungan error pada regresi linier yang dihitung dengan cara mengukur jarak nilai y yang diamati dari nilai y yang diprediksi pada setiap nilai x.\n",
        "\n"
      ],
      "metadata": {
        "id": "G3ykGcjZp0c4"
      }
    },
    {
      "cell_type": "markdown",
      "source": [
        "berikut adalah **model regresi liniear umum berdasarkan usia kehamilan dan massa bayi yang dilahirkan**"
      ],
      "metadata": {
        "id": "f9KpQpLy3mxw"
      }
    },
    {
      "cell_type": "code",
      "source": [
        "plot5 = sns.lmplot(x=\"weeks\", y=\"weight\", data=df, height=8, aspect = 1.1)\n",
        "plot5.fig.suptitle('model regresi liniear umum terhadap atribut usia kehamilan dengan massa bayi yang dilahirkan')"
      ],
      "metadata": {
        "colab": {
          "base_uri": "https://localhost:8080/",
          "height": 604
        },
        "id": "NPNlNO_V3mV_",
        "outputId": "6ff45cfb-3533-4475-e7a8-5d643bb7b96f"
      },
      "execution_count": null,
      "outputs": [
        {
          "output_type": "execute_result",
          "data": {
            "text/plain": [
              "Text(0.5, 0.98, 'model regresi liniear umum terhadap atribut usia kehamilan dengan massa bayi yang dilahirkan')"
            ]
          },
          "metadata": {},
          "execution_count": 51
        },
        {
          "output_type": "display_data",
          "data": {
            "image/png": "[encoded data removed]",
            "text/plain": [
              "<Figure size 633.6x576 with 1 Axes>"
            ]
          },
          "metadata": {
            "needs_background": "light"
          }
        }
      ]
    },
    {
      "cell_type": "code",
      "source": [
        "plot6 = sns.lmplot(x=\"weeks\", y=\"weight\", data=df, x_estimator=np.mean, height=8, aspect = 1.1)\n",
        "plot6.fig.suptitle('model regresi liniear umum berdasarkan confidance interval')"
      ],
      "metadata": {
        "colab": {
          "base_uri": "https://localhost:8080/",
          "height": 604
        },
        "id": "nr5um58x4WRA",
        "outputId": "3823f557-ae87-4bbf-9eed-16d36ad9c265"
      },
      "execution_count": null,
      "outputs": [
        {
          "output_type": "execute_result",
          "data": {
            "text/plain": [
              "Text(0.5, 0.98, 'model regresi liniear umum berdasarkan confidance interval')"
            ]
          },
          "metadata": {},
          "execution_count": 59
        },
        {
          "output_type": "display_data",
          "data": {
            "image/png": "[encoded data removed]",
            "text/plain": [
              "<Figure size 633.6x576 with 1 Axes>"
            ]
          },
          "metadata": {
            "needs_background": "light"
          }
        }
      ]
    },
    {
      "cell_type": "markdown",
      "source": [
        "**berdasarkan hasil grafik regresi dengan bantuan confidance interfal (CI) terdapat margin error yang tinggi pada usia kehamilan abnormal terhadap massa bayi yang dilahirkan hal ini disebabkan populasi yang kurang mumpuni dibandingkan ibu yang memiliki usia melahirkan normal (dimana confidance interval yang tidak memiliki margin error yang tinggi)**"
      ],
      "metadata": {
        "id": "Nkh8MR_i9jeu"
      }
    },
    {
      "cell_type": "code",
      "source": [
        ""
      ],
      "metadata": {
        "id": "yVYe521K6F7P"
      },
      "execution_count": null,
      "outputs": []
    }
  ]
}